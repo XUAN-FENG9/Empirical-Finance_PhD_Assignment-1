{
  "metadata": {
    "language_info": {
      "codemirror_mode": {
        "name": "python",
        "version": 3
      },
      "file_extension": ".py",
      "mimetype": "text/x-python",
      "name": "python",
      "nbconvert_exporter": "python",
      "pygments_lexer": "ipython3",
      "version": "3.8"
    },
    "kernelspec": {
      "name": "python",
      "display_name": "Python (Pyodide)",
      "language": "python"
    }
  },
  "nbformat_minor": 4,
  "nbformat": 4,
  "cells": [
    {
      "cell_type": "code",
      "source": "import numpy as np\nimport pandas as pd\n\n# Read the CSV file and parse dates in the first column\nfile_path = 'data.csv'\ndta = pd.read_csv(file_path, parse_dates=[0])\n\n# Print the first five rows of the dataframe\nprint(dta.head())\n",
      "metadata": {
        "trusted": true
      },
      "execution_count": 8,
      "outputs": [
        {
          "name": "stdout",
          "text": "  Unnamed: 0  year  Cnsmr  Manuf  HiTec   Hlth  Other  SPCSPI    IR  \\\n0          1  1927  26.40  31.78  37.88  56.54  37.34   13.40  4.26   \n1          2  1928  38.18  51.25  59.14  32.58  30.57   17.53  4.64   \n2          3  1929 -43.01 -27.61  -6.18 -17.51 -22.02   24.86  6.01   \n3          4  1930 -35.04 -39.94 -39.83 -17.87 -39.68   21.71  4.15   \n4          5  1931 -35.16 -48.58 -48.64 -37.21 -53.03   15.98  2.43   \n\n   pc_consumption  \n0     5760.196756  \n1     5818.535581  \n2     6071.470984  \n3     5686.178628  \n4     5469.072499  \n",
          "output_type": "stream"
        }
      ]
    },
    {
      "cell_type": "code",
      "source": "dta['c_growth'] = dta['pc_consumption'] / dta['pc_consumption'].shift(1)\ndta['c_growth_lag1'] = dta['c_growth'].shift(1)\ndta['r_lag1'] = dta['IR'].shift(1)\ndta['r_lag2'] = dta['IR'].shift(2)\ndta['r_forw1'] = dta['IR'].shift(-1)\ndta['c_lag1'] = dta['pc_consumption'].shift(1)\ndta['c_forw1'] = dta['pc_consumption'].shift(-1)\ndta['const'] = 1\n\ndta_clean = dta.dropna()\n\n\nendog_df = dta_clean[['r_forw1', 'c_forw1', 'pc_consumption']]\nexog_df = endog_df\ninstrument_df = dta_clean[['r_lag1', 'r_lag2', 'c_growth', 'c_growth_lag1',\n                           'const']]\n\nendog, exog, instrument  = map(np.asarray, [endog_df, exog_df, instrument_df])\nprint(dta.head())",
      "metadata": {
        "trusted": true
      },
      "execution_count": 11,
      "outputs": [
        {
          "name": "stdout",
          "text": "  Unnamed: 0  year  Cnsmr  Manuf  HiTec   Hlth  Other  SPCSPI    IR  \\\n0          1  1927  26.40  31.78  37.88  56.54  37.34   13.40  4.26   \n1          2  1928  38.18  51.25  59.14  32.58  30.57   17.53  4.64   \n2          3  1929 -43.01 -27.61  -6.18 -17.51 -22.02   24.86  6.01   \n3          4  1930 -35.04 -39.94 -39.83 -17.87 -39.68   21.71  4.15   \n4          5  1931 -35.16 -48.58 -48.64 -37.21 -53.03   15.98  2.43   \n\n   pc_consumption  c_growth  c_growth_lag1  r_lag1  r_lag2  r_forw1  \\\n0     5760.196756       NaN            NaN     NaN     NaN     4.64   \n1     5818.535581  1.010128            NaN    4.26     NaN     6.01   \n2     6071.470984  1.043471       1.010128    4.64    4.26     4.15   \n3     5686.178628  0.936541       1.043471    6.01    4.64     2.43   \n4     5469.072499  0.961819       0.936541    4.15    6.01     3.36   \n\n        c_lag1      c_forw1  const  \n0          NaN  5818.535581      1  \n1  5760.196756  6071.470984      1  \n2  5818.535581  5686.178628      1  \n3  6071.470984  5469.072499      1  \n4  5686.178628  4951.900583      1  \n",
          "output_type": "stream"
        }
      ]
    },
    {
      "cell_type": "code",
      "source": "def moment_consumption1(params, exog):\n    beta, gamma = params\n    r_forw1, c_forw1, c = exog.T  # unwrap iterable (ndarray)\n    \n    # moment condition without instrument    \n    err = 1 - beta * (1 + r_forw1) * np.power(c_forw1 / c, -gamma)\n    return -err",
      "metadata": {
        "trusted": true
      },
      "execution_count": 12,
      "outputs": []
    },
    {
      "cell_type": "code",
      "source": "endog1 = np.zeros(exog.shape[0])    \nmod1 = gmm.NonlinearIVGMM(endog1, exog, instrument, moment_consumption1, k_moms=4)\nw0inv = np.dot(instrument.T, instrument) / len(endog1)\nres1 = mod1.fit([1,-1], maxiter=2, inv_weights=w0inv) ",
      "metadata": {
        "trusted": true
      },
      "execution_count": 13,
      "outputs": [
        {
          "name": "stdout",
          "text": "Optimization terminated successfully.\n         Current function value: 0.137095\n         Iterations: 17\n         Function evaluations: 23\n         Gradient evaluations: 23\nOptimization terminated successfully.\n         Current function value: 0.217435\n         Iterations: 8\n         Function evaluations: 14\n         Gradient evaluations: 14\n",
          "output_type": "stream"
        }
      ]
    },
    {
      "cell_type": "code",
      "source": "print(res1.summary(yname='Euler Eq', xname=['discount', 'CRRA']))\n",
      "metadata": {
        "trusted": true
      },
      "execution_count": 14,
      "outputs": [
        {
          "name": "stdout",
          "text": "                            NonlinearIVGMM Results                            \n==============================================================================\nDep. Variable:               Euler Eq   Hansen J:                        17.39\nModel:                 NonlinearIVGMM   Prob (Hansen J):              0.000167\nMethod:                           GMM                                         \nDate:                Tue, 04 Apr 2023                                         \nTime:                        21:19:59                                         \nNo. Observations:                  80                                         \n==============================================================================\n                 coef    std err          z      P>|z|      [0.025      0.975]\n------------------------------------------------------------------------------\ndiscount       0.2048      0.023      8.795      0.000       0.159       0.250\nCRRA          20.3853      6.578      3.099      0.002       7.493      33.277\n==============================================================================\n",
          "output_type": "stream"
        }
      ]
    },
    {
      "cell_type": "code",
      "source": "\n# We don't need Nelder-Mead in this case, we can use bfgs default directly\n#res1_ = mod1.fit([1,-1], maxiter=0, inv_weights=w0inv, opt_method='nm')\n\nres1_hac4_2s = mod1.fit([1, -1], maxiter=2, inv_weights=w0inv, weights_method='hac', wargs={'maxlag':4})\nprint('\\n\\n')\nprint(res1_hac4_2s.summary(yname='Euler Eq', xname=['discount', 'CRRA']))",
      "metadata": {
        "trusted": true
      },
      "execution_count": 15,
      "outputs": [
        {
          "name": "stdout",
          "text": "Optimization terminated successfully.\n         Current function value: 0.137095\n         Iterations: 17\n         Function evaluations: 23\n         Gradient evaluations: 23\nOptimization terminated successfully.\n         Current function value: 0.065243\n         Iterations: 8\n         Function evaluations: 13\n         Gradient evaluations: 13\n\n\n\n                            NonlinearIVGMM Results                            \n==============================================================================\nDep. Variable:               Euler Eq   Hansen J:                        5.219\nModel:                 NonlinearIVGMM   Prob (Hansen J):                0.0736\nMethod:                           GMM                                         \nDate:                Tue, 04 Apr 2023                                         \nTime:                        21:21:30                                         \nNo. Observations:                  80                                         \n==============================================================================\n                 coef    std err          z      P>|z|      [0.025      0.975]\n------------------------------------------------------------------------------\ndiscount       0.1842      0.024      7.809      0.000       0.138       0.230\nCRRA          13.9817      4.066      3.439      0.001       6.013      21.951\n==============================================================================\n",
          "output_type": "stream"
        }
      ]
    },
    {
      "cell_type": "code",
      "source": "",
      "metadata": {},
      "execution_count": null,
      "outputs": []
    }
  ]
}